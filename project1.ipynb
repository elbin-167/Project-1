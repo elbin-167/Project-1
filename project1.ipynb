{
 "cells": [
  {
   "cell_type": "code",
   "metadata": {
    "tags": [],
    "cell_id": "16cc9b90-522e-4154-a610-3fb062e88d63",
    "deepnote_to_be_reexecuted": false,
    "source_hash": "30dc647f",
    "execution_start": 1645577453701,
    "execution_millis": 396,
    "deepnote_cell_type": "code"
   },
   "source": "import pandas as pd\ndf = pd.read_csv(\"us_state_vaccinations.csv\")\ndf",
   "execution_count": 1,
   "outputs": [
    {
     "output_type": "execute_result",
     "execution_count": 1,
     "data": {
      "application/vnd.deepnote.dataframe.v3+json": {
       "column_count": 16,
       "row_count": 26148,
       "columns": [
        {
         "name": "date",
         "dtype": "object",
         "stats": {
          "unique_count": 427,
          "nan_count": 0,
          "categories": [
           {
            "name": "2021-01-12",
            "count": 65
           },
           {
            "name": "2021-01-13",
            "count": 65
           },
           {
            "name": "425 others",
            "count": 26018
           }
          ]
         }
        },
        {
         "name": "location",
         "dtype": "object",
         "stats": {
          "unique_count": 65,
          "nan_count": 0,
          "categories": [
           {
            "name": "United States",
            "count": 427
           },
           {
            "name": "Alabama",
            "count": 404
           },
           {
            "name": "63 others",
            "count": 25317
           }
          ]
         }
        },
        {
         "name": "total_vaccinations",
         "dtype": "float64",
         "stats": {
          "unique_count": 22749,
          "nan_count": 2292,
          "min": "416.0",
          "max": "549939423.0",
          "histogram": [
           {
            "bin_start": 416,
            "bin_end": 54994316.7,
            "count": 23473
           },
           {
            "bin_start": 54994316.7,
            "bin_end": 109988217.4,
            "count": 81
           },
           {
            "bin_start": 109988217.4,
            "bin_end": 164982118.10000002,
            "count": 19
           },
           {
            "bin_start": 164982118.10000002,
            "bin_end": 219976018.8,
            "count": 19
           },
           {
            "bin_start": 219976018.8,
            "bin_end": 274969919.5,
            "count": 25
           },
           {
            "bin_start": 274969919.5,
            "bin_end": 329963820.20000005,
            "count": 45
           },
           {
            "bin_start": 329963820.20000005,
            "bin_end": 384957720.90000004,
            "count": 75
           },
           {
            "bin_start": 384957720.90000004,
            "bin_end": 439951621.6,
            "count": 50
           },
           {
            "bin_start": 439951621.6,
            "bin_end": 494945522.3,
            "count": 27
           },
           {
            "bin_start": 494945522.3,
            "bin_end": 549939423,
            "count": 42
           }
          ]
         }
        },
        {
         "name": "total_distributed",
         "dtype": "float64"
        },
        {
         "name": "people_vaccinated",
         "dtype": "float64"
        },
        {
         "name": "people_fully_vaccinated_per_hundred",
         "dtype": "float64"
        },
        {
         "name": "total_vaccinations_per_hundred",
         "dtype": "float64"
        },
        {
         "name": "people_fully_vaccinated",
         "dtype": "float64"
        },
        {
         "name": "people_vaccinated_per_hundred",
         "dtype": "float64"
        },
        {
         "name": "distributed_per_hundred",
         "dtype": "float64"
        },
        {
         "name": "daily_vaccinations_raw",
         "dtype": "float64"
        },
        {
         "name": "daily_vaccinations",
         "dtype": "float64"
        },
        {
         "name": "daily_vaccinations_per_million",
         "dtype": "float64"
        },
        {
         "name": "share_doses_used",
         "dtype": "float64"
        },
        {
         "name": "total_boosters",
         "dtype": "float64"
        },
        {
         "name": "total_boosters_per_hundred",
         "dtype": "float64"
        },
        {
         "name": "_deepnote_index_column",
         "dtype": "int64"
        }
       ],
       "rows": [
        {
         "date": "2021-01-12",
         "location": "Alabama",
         "total_vaccinations": 78134,
         "total_distributed": 377025,
         "people_vaccinated": 70861,
         "people_fully_vaccinated_per_hundred": 0.15,
         "total_vaccinations_per_hundred": 1.59,
         "people_fully_vaccinated": 7270,
         "people_vaccinated_per_hundred": 1.45,
         "distributed_per_hundred": 7.69,
         "daily_vaccinations_raw": "nan",
         "daily_vaccinations": "nan",
         "daily_vaccinations_per_million": "nan",
         "share_doses_used": 0.207,
         "total_boosters": "nan",
         "total_boosters_per_hundred": "nan",
         "_deepnote_index_column": 0
        },
        {
         "date": "2021-01-13",
         "location": "Alabama",
         "total_vaccinations": 84040,
         "total_distributed": 378975,
         "people_vaccinated": 74792,
         "people_fully_vaccinated_per_hundred": 0.19,
         "total_vaccinations_per_hundred": 1.71,
         "people_fully_vaccinated": 9245,
         "people_vaccinated_per_hundred": 1.53,
         "distributed_per_hundred": 7.73,
         "daily_vaccinations_raw": 5906,
         "daily_vaccinations": 5906,
         "daily_vaccinations_per_million": 1205,
         "share_doses_used": 0.222,
         "total_boosters": "nan",
         "total_boosters_per_hundred": "nan",
         "_deepnote_index_column": 1
        },
        {
         "date": "2021-01-14",
         "location": "Alabama",
         "total_vaccinations": 92300,
         "total_distributed": 435350,
         "people_vaccinated": 80480,
         "people_fully_vaccinated_per_hundred": "nan",
         "total_vaccinations_per_hundred": 1.88,
         "people_fully_vaccinated": "nan",
         "people_vaccinated_per_hundred": 1.64,
         "distributed_per_hundred": 8.88,
         "daily_vaccinations_raw": 8260,
         "daily_vaccinations": 7083,
         "daily_vaccinations_per_million": 1445,
         "share_doses_used": 0.212,
         "total_boosters": "nan",
         "total_boosters_per_hundred": "nan",
         "_deepnote_index_column": 2
        },
        {
         "date": "2021-01-15",
         "location": "Alabama",
         "total_vaccinations": 100567,
         "total_distributed": 444650,
         "people_vaccinated": 86956,
         "people_fully_vaccinated_per_hundred": 0.28,
         "total_vaccinations_per_hundred": 2.05,
         "people_fully_vaccinated": 13488,
         "people_vaccinated_per_hundred": 1.77,
         "distributed_per_hundred": 9.07,
         "daily_vaccinations_raw": 8267,
         "daily_vaccinations": 7478,
         "daily_vaccinations_per_million": 1525,
         "share_doses_used": 0.226,
         "total_boosters": "nan",
         "total_boosters_per_hundred": "nan",
         "_deepnote_index_column": 3
        },
        {
         "date": "2021-01-16",
         "location": "Alabama",
         "total_vaccinations": "nan",
         "total_distributed": "nan",
         "people_vaccinated": "nan",
         "people_fully_vaccinated_per_hundred": "nan",
         "total_vaccinations_per_hundred": "nan",
         "people_fully_vaccinated": "nan",
         "people_vaccinated_per_hundred": "nan",
         "distributed_per_hundred": "nan",
         "daily_vaccinations_raw": "nan",
         "daily_vaccinations": 7498,
         "daily_vaccinations_per_million": 1529,
         "share_doses_used": "nan",
         "total_boosters": "nan",
         "total_boosters_per_hundred": "nan",
         "_deepnote_index_column": 4
        },
        {
         "date": "2021-01-17",
         "location": "Alabama",
         "total_vaccinations": "nan",
         "total_distributed": "nan",
         "people_vaccinated": "nan",
         "people_fully_vaccinated_per_hundred": "nan",
         "total_vaccinations_per_hundred": "nan",
         "people_fully_vaccinated": "nan",
         "people_vaccinated_per_hundred": "nan",
         "distributed_per_hundred": "nan",
         "daily_vaccinations_raw": "nan",
         "daily_vaccinations": 7509,
         "daily_vaccinations_per_million": 1531,
         "share_doses_used": "nan",
         "total_boosters": "nan",
         "total_boosters_per_hundred": "nan",
         "_deepnote_index_column": 5
        },
        {
         "date": "2021-01-18",
         "location": "Alabama",
         "total_vaccinations": "nan",
         "total_distributed": "nan",
         "people_vaccinated": "nan",
         "people_fully_vaccinated_per_hundred": "nan",
         "total_vaccinations_per_hundred": "nan",
         "people_fully_vaccinated": "nan",
         "people_vaccinated_per_hundred": "nan",
         "distributed_per_hundred": "nan",
         "daily_vaccinations_raw": "nan",
         "daily_vaccinations": 7517,
         "daily_vaccinations_per_million": 1533,
         "share_doses_used": "nan",
         "total_boosters": "nan",
         "total_boosters_per_hundred": "nan",
         "_deepnote_index_column": 6
        },
        {
         "date": "2021-01-19",
         "location": "Alabama",
         "total_vaccinations": 130795,
         "total_distributed": 444650,
         "people_vaccinated": 114319,
         "people_fully_vaccinated_per_hundred": 0.33,
         "total_vaccinations_per_hundred": 2.67,
         "people_fully_vaccinated": 16346,
         "people_vaccinated_per_hundred": 2.33,
         "distributed_per_hundred": 9.07,
         "daily_vaccinations_raw": "nan",
         "daily_vaccinations": 7523,
         "daily_vaccinations_per_million": 1534,
         "share_doses_used": 0.294,
         "total_boosters": "nan",
         "total_boosters_per_hundred": "nan",
         "_deepnote_index_column": 7
        },
        {
         "date": "2021-01-20",
         "location": "Alabama",
         "total_vaccinations": 139200,
         "total_distributed": 483275,
         "people_vaccinated": 121113,
         "people_fully_vaccinated_per_hundred": 0.37,
         "total_vaccinations_per_hundred": 2.84,
         "people_fully_vaccinated": 17956,
         "people_vaccinated_per_hundred": 2.47,
         "distributed_per_hundred": 9.86,
         "daily_vaccinations_raw": 8405,
         "daily_vaccinations": 7880,
         "daily_vaccinations_per_million": 1607,
         "share_doses_used": 0.288,
         "total_boosters": "nan",
         "total_boosters_per_hundred": "nan",
         "_deepnote_index_column": 8
        },
        {
         "date": "2021-01-21",
         "location": "Alabama",
         "total_vaccinations": 165919,
         "total_distributed": 493125,
         "people_vaccinated": 144429,
         "people_fully_vaccinated_per_hundred": 0.44,
         "total_vaccinations_per_hundred": 3.38,
         "people_fully_vaccinated": 21345,
         "people_vaccinated_per_hundred": 2.95,
         "distributed_per_hundred": 10.06,
         "daily_vaccinations_raw": 26719,
         "daily_vaccinations": 10517,
         "daily_vaccinations_per_million": 2145,
         "share_doses_used": 0.336,
         "total_boosters": "nan",
         "total_boosters_per_hundred": "nan",
         "_deepnote_index_column": 9
        }
       ]
      },
      "text/plain": "             date location  total_vaccinations  total_distributed  \\\n0      2021-01-12  Alabama             78134.0           377025.0   \n1      2021-01-13  Alabama             84040.0           378975.0   \n2      2021-01-14  Alabama             92300.0           435350.0   \n3      2021-01-15  Alabama            100567.0           444650.0   \n4      2021-01-16  Alabama                 NaN                NaN   \n...           ...      ...                 ...                ...   \n26143  2022-02-15  Wyoming            723234.0           921765.0   \n26144  2022-02-16  Wyoming            724510.0           921865.0   \n26145  2022-02-17  Wyoming            727461.0           926785.0   \n26146  2022-02-18  Wyoming            727939.0           928785.0   \n26147  2022-02-19  Wyoming            728393.0           928985.0   \n\n       people_vaccinated  people_fully_vaccinated_per_hundred  \\\n0                70861.0                                 0.15   \n1                74792.0                                 0.19   \n2                80480.0                                  NaN   \n3                86956.0                                 0.28   \n4                    NaN                                  NaN   \n...                  ...                                  ...   \n26143           333970.0                                50.27   \n26144           334331.0                                50.35   \n26145           334602.0                                50.39   \n26146           334748.0                                50.42   \n26147           334878.0                                50.45   \n\n       total_vaccinations_per_hundred  people_fully_vaccinated  \\\n0                                1.59                   7270.0   \n1                                1.71                   9245.0   \n2                                1.88                      NaN   \n3                                2.05                  13488.0   \n4                                 NaN                      NaN   \n...                               ...                      ...   \n26143                          124.96                 290953.0   \n26144                          125.18                 291386.0   \n26145                          125.69                 291651.0   \n26146                          125.78                 291827.0   \n26147                          125.85                 292007.0   \n\n       people_vaccinated_per_hundred  distributed_per_hundred  \\\n0                               1.45                     7.69   \n1                               1.53                     7.73   \n2                               1.64                     8.88   \n3                               1.77                     9.07   \n4                                NaN                      NaN   \n...                              ...                      ...   \n26143                          57.70                   159.27   \n26144                          57.77                   159.28   \n26145                          57.81                   160.13   \n26146                          57.84                   160.48   \n26147                          57.86                   160.51   \n\n       daily_vaccinations_raw  daily_vaccinations  \\\n0                         NaN                 NaN   \n1                      5906.0              5906.0   \n2                      8260.0              7083.0   \n3                      8267.0              7478.0   \n4                         NaN              7498.0   \n...                       ...                 ...   \n26143                     4.0               573.0   \n26144                  1276.0               747.0   \n26145                  2951.0               848.0   \n26146                   478.0               788.0   \n26147                   454.0               751.0   \n\n       daily_vaccinations_per_million  share_doses_used  total_boosters  \\\n0                                 NaN             0.207             NaN   \n1                              1205.0             0.222             NaN   \n2                              1445.0             0.212             NaN   \n3                              1525.0             0.226             NaN   \n4                              1529.0               NaN             NaN   \n...                               ...               ...             ...   \n26143                           990.0             0.785        119692.0   \n26144                          1291.0             0.786        120166.0   \n26145                          1465.0             0.785        120416.0   \n26146                          1362.0             0.784        120600.0   \n26147                          1298.0             0.784        120790.0   \n\n       total_boosters_per_hundred  \n0                             NaN  \n1                             NaN  \n2                             NaN  \n3                             NaN  \n4                             NaN  \n...                           ...  \n26143                       20.68  \n26144                       20.76  \n26145                       20.81  \n26146                       20.84  \n26147                       20.87  \n\n[26148 rows x 16 columns]",
      "text/html": "<div>\n<style scoped>\n    .dataframe tbody tr th:only-of-type {\n        vertical-align: middle;\n    }\n\n    .dataframe tbody tr th {\n        vertical-align: top;\n    }\n\n    .dataframe thead th {\n        text-align: right;\n    }\n</style>\n<table border=\"1\" class=\"dataframe\">\n  <thead>\n    <tr style=\"text-align: right;\">\n      <th></th>\n      <th>date</th>\n      <th>location</th>\n      <th>total_vaccinations</th>\n      <th>total_distributed</th>\n      <th>people_vaccinated</th>\n      <th>people_fully_vaccinated_per_hundred</th>\n      <th>total_vaccinations_per_hundred</th>\n      <th>people_fully_vaccinated</th>\n      <th>people_vaccinated_per_hundred</th>\n      <th>distributed_per_hundred</th>\n      <th>daily_vaccinations_raw</th>\n      <th>daily_vaccinations</th>\n      <th>daily_vaccinations_per_million</th>\n      <th>share_doses_used</th>\n      <th>total_boosters</th>\n      <th>total_boosters_per_hundred</th>\n    </tr>\n  </thead>\n  <tbody>\n    <tr>\n      <th>0</th>\n      <td>2021-01-12</td>\n      <td>Alabama</td>\n      <td>78134.0</td>\n      <td>377025.0</td>\n      <td>70861.0</td>\n      <td>0.15</td>\n      <td>1.59</td>\n      <td>7270.0</td>\n      <td>1.45</td>\n      <td>7.69</td>\n      <td>NaN</td>\n      <td>NaN</td>\n      <td>NaN</td>\n      <td>0.207</td>\n      <td>NaN</td>\n      <td>NaN</td>\n    </tr>\n    <tr>\n      <th>1</th>\n      <td>2021-01-13</td>\n      <td>Alabama</td>\n      <td>84040.0</td>\n      <td>378975.0</td>\n      <td>74792.0</td>\n      <td>0.19</td>\n      <td>1.71</td>\n      <td>9245.0</td>\n      <td>1.53</td>\n      <td>7.73</td>\n      <td>5906.0</td>\n      <td>5906.0</td>\n      <td>1205.0</td>\n      <td>0.222</td>\n      <td>NaN</td>\n      <td>NaN</td>\n    </tr>\n    <tr>\n      <th>2</th>\n      <td>2021-01-14</td>\n      <td>Alabama</td>\n      <td>92300.0</td>\n      <td>435350.0</td>\n      <td>80480.0</td>\n      <td>NaN</td>\n      <td>1.88</td>\n      <td>NaN</td>\n      <td>1.64</td>\n      <td>8.88</td>\n      <td>8260.0</td>\n      <td>7083.0</td>\n      <td>1445.0</td>\n      <td>0.212</td>\n      <td>NaN</td>\n      <td>NaN</td>\n    </tr>\n    <tr>\n      <th>3</th>\n      <td>2021-01-15</td>\n      <td>Alabama</td>\n      <td>100567.0</td>\n      <td>444650.0</td>\n      <td>86956.0</td>\n      <td>0.28</td>\n      <td>2.05</td>\n      <td>13488.0</td>\n      <td>1.77</td>\n      <td>9.07</td>\n      <td>8267.0</td>\n      <td>7478.0</td>\n      <td>1525.0</td>\n      <td>0.226</td>\n      <td>NaN</td>\n      <td>NaN</td>\n    </tr>\n    <tr>\n      <th>4</th>\n      <td>2021-01-16</td>\n      <td>Alabama</td>\n      <td>NaN</td>\n      <td>NaN</td>\n      <td>NaN</td>\n      <td>NaN</td>\n      <td>NaN</td>\n      <td>NaN</td>\n      <td>NaN</td>\n      <td>NaN</td>\n      <td>NaN</td>\n      <td>7498.0</td>\n      <td>1529.0</td>\n      <td>NaN</td>\n      <td>NaN</td>\n      <td>NaN</td>\n    </tr>\n    <tr>\n      <th>...</th>\n      <td>...</td>\n      <td>...</td>\n      <td>...</td>\n      <td>...</td>\n      <td>...</td>\n      <td>...</td>\n      <td>...</td>\n      <td>...</td>\n      <td>...</td>\n      <td>...</td>\n      <td>...</td>\n      <td>...</td>\n      <td>...</td>\n      <td>...</td>\n      <td>...</td>\n      <td>...</td>\n    </tr>\n    <tr>\n      <th>26143</th>\n      <td>2022-02-15</td>\n      <td>Wyoming</td>\n      <td>723234.0</td>\n      <td>921765.0</td>\n      <td>333970.0</td>\n      <td>50.27</td>\n      <td>124.96</td>\n      <td>290953.0</td>\n      <td>57.70</td>\n      <td>159.27</td>\n      <td>4.0</td>\n      <td>573.0</td>\n      <td>990.0</td>\n      <td>0.785</td>\n      <td>119692.0</td>\n      <td>20.68</td>\n    </tr>\n    <tr>\n      <th>26144</th>\n      <td>2022-02-16</td>\n      <td>Wyoming</td>\n      <td>724510.0</td>\n      <td>921865.0</td>\n      <td>334331.0</td>\n      <td>50.35</td>\n      <td>125.18</td>\n      <td>291386.0</td>\n      <td>57.77</td>\n      <td>159.28</td>\n      <td>1276.0</td>\n      <td>747.0</td>\n      <td>1291.0</td>\n      <td>0.786</td>\n      <td>120166.0</td>\n      <td>20.76</td>\n    </tr>\n    <tr>\n      <th>26145</th>\n      <td>2022-02-17</td>\n      <td>Wyoming</td>\n      <td>727461.0</td>\n      <td>926785.0</td>\n      <td>334602.0</td>\n      <td>50.39</td>\n      <td>125.69</td>\n      <td>291651.0</td>\n      <td>57.81</td>\n      <td>160.13</td>\n      <td>2951.0</td>\n      <td>848.0</td>\n      <td>1465.0</td>\n      <td>0.785</td>\n      <td>120416.0</td>\n      <td>20.81</td>\n    </tr>\n    <tr>\n      <th>26146</th>\n      <td>2022-02-18</td>\n      <td>Wyoming</td>\n      <td>727939.0</td>\n      <td>928785.0</td>\n      <td>334748.0</td>\n      <td>50.42</td>\n      <td>125.78</td>\n      <td>291827.0</td>\n      <td>57.84</td>\n      <td>160.48</td>\n      <td>478.0</td>\n      <td>788.0</td>\n      <td>1362.0</td>\n      <td>0.784</td>\n      <td>120600.0</td>\n      <td>20.84</td>\n    </tr>\n    <tr>\n      <th>26147</th>\n      <td>2022-02-19</td>\n      <td>Wyoming</td>\n      <td>728393.0</td>\n      <td>928985.0</td>\n      <td>334878.0</td>\n      <td>50.45</td>\n      <td>125.85</td>\n      <td>292007.0</td>\n      <td>57.86</td>\n      <td>160.51</td>\n      <td>454.0</td>\n      <td>751.0</td>\n      <td>1298.0</td>\n      <td>0.784</td>\n      <td>120790.0</td>\n      <td>20.87</td>\n    </tr>\n  </tbody>\n</table>\n<p>26148 rows × 16 columns</p>\n</div>"
     },
     "metadata": {}
    }
   ]
  },
  {
   "cell_type": "code",
   "metadata": {
    "cell_id": "54f67653-eacb-4698-9662-02d05aaa8d64",
    "tags": [],
    "deepnote_to_be_reexecuted": false,
    "source_hash": "de1e323c",
    "execution_start": 1645577453924,
    "execution_millis": 179,
    "deepnote_cell_type": "code"
   },
   "source": "df.info()",
   "execution_count": 2,
   "outputs": [
    {
     "name": "stdout",
     "text": "<class 'pandas.core.frame.DataFrame'>\nRangeIndex: 26148 entries, 0 to 26147\nData columns (total 16 columns):\n #   Column                               Non-Null Count  Dtype  \n---  ------                               --------------  -----  \n 0   date                                 26148 non-null  object \n 1   location                             26148 non-null  object \n 2   total_vaccinations                   23856 non-null  float64\n 3   total_distributed                    23596 non-null  float64\n 4   people_vaccinated                    23592 non-null  float64\n 5   people_fully_vaccinated_per_hundred  22360 non-null  float64\n 6   total_vaccinations_per_hundred       22459 non-null  float64\n 7   people_fully_vaccinated              23512 non-null  float64\n 8   people_vaccinated_per_hundred        22435 non-null  float64\n 9   distributed_per_hundred              22439 non-null  float64\n 10  daily_vaccinations_raw               22972 non-null  float64\n 11  daily_vaccinations                   26083 non-null  float64\n 12  daily_vaccinations_per_million       24571 non-null  float64\n 13  share_doses_used                     23596 non-null  float64\n 14  total_boosters                       6690 non-null   float64\n 15  total_boosters_per_hundred           6366 non-null   float64\ndtypes: float64(14), object(2)\nmemory usage: 3.2+ MB\n",
     "output_type": "stream"
    }
   ]
  },
  {
   "cell_type": "code",
   "metadata": {
    "cell_id": "3d3a5108-4902-432d-9514-6cbe0ce1783b",
    "tags": [],
    "deepnote_to_be_reexecuted": false,
    "source_hash": "5cc4f397",
    "execution_start": 1645577453925,
    "execution_millis": 188,
    "deepnote_table_state": {
     "pageSize": 10,
     "pageIndex": 16,
     "filters": [],
     "sortBy": []
    },
    "deepnote_table_loading": false,
    "deepnote_cell_type": "code"
   },
   "source": "df[\"date\"] = pd.to_datetime( df[\"date\"])\ndf",
   "execution_count": 3,
   "outputs": [
    {
     "output_type": "execute_result",
     "execution_count": 11,
     "data": {
      "application/vnd.deepnote.dataframe.v3+json": {
       "column_count": 16,
       "row_count": 26148,
       "columns": [
        {
         "name": "date",
         "dtype": "datetime64[ns]",
         "stats": {
          "unique_count": 427,
          "nan_count": 0,
          "min": "2020-12-20 00:00:00",
          "max": "2022-02-19 00:00:00",
          "histogram": [
           {
            "bin_start": 1608422400000000000,
            "bin_end": 1612103040000000000,
            "count": 1323
           },
           {
            "bin_start": 1612103040000000000,
            "bin_end": 1615783680000000000,
            "count": 2795
           },
           {
            "bin_start": 1615783680000000000,
            "bin_end": 1619464320000000000,
            "count": 2730
           },
           {
            "bin_start": 1619464320000000000,
            "bin_end": 1623144960000000000,
            "count": 2795
           },
           {
            "bin_start": 1623144960000000000,
            "bin_end": 1626825600000000000,
            "count": 2730
           },
           {
            "bin_start": 1626825600000000000,
            "bin_end": 1630506240000000000,
            "count": 2795
           },
           {
            "bin_start": 1630506240000000000,
            "bin_end": 1634186880000000000,
            "count": 2788
           },
           {
            "bin_start": 1634186880000000000,
            "bin_end": 1637867520000000000,
            "count": 2688
           },
           {
            "bin_start": 1637867520000000000,
            "bin_end": 1641548160000000000,
            "count": 2752
           },
           {
            "bin_start": 1641548160000000000,
            "bin_end": 1645228800000000000,
            "count": 2752
           }
          ]
         }
        },
        {
         "name": "location",
         "dtype": "object",
         "stats": {
          "unique_count": 65,
          "nan_count": 0,
          "categories": [
           {
            "name": "United States",
            "count": 427
           },
           {
            "name": "Alabama",
            "count": 404
           },
           {
            "name": "63 others",
            "count": 25317
           }
          ]
         }
        },
        {
         "name": "total_vaccinations",
         "dtype": "float64",
         "stats": {
          "unique_count": 22749,
          "nan_count": 2292,
          "min": "416.0",
          "max": "549939423.0",
          "histogram": [
           {
            "bin_start": 416,
            "bin_end": 54994316.7,
            "count": 23473
           },
           {
            "bin_start": 54994316.7,
            "bin_end": 109988217.4,
            "count": 81
           },
           {
            "bin_start": 109988217.4,
            "bin_end": 164982118.10000002,
            "count": 19
           },
           {
            "bin_start": 164982118.10000002,
            "bin_end": 219976018.8,
            "count": 19
           },
           {
            "bin_start": 219976018.8,
            "bin_end": 274969919.5,
            "count": 25
           },
           {
            "bin_start": 274969919.5,
            "bin_end": 329963820.20000005,
            "count": 45
           },
           {
            "bin_start": 329963820.20000005,
            "bin_end": 384957720.90000004,
            "count": 75
           },
           {
            "bin_start": 384957720.90000004,
            "bin_end": 439951621.6,
            "count": 50
           },
           {
            "bin_start": 439951621.6,
            "bin_end": 494945522.3,
            "count": 27
           },
           {
            "bin_start": 494945522.3,
            "bin_end": 549939423,
            "count": 42
           }
          ]
         }
        },
        {
         "name": "total_distributed",
         "dtype": "float64"
        },
        {
         "name": "people_vaccinated",
         "dtype": "float64"
        },
        {
         "name": "people_fully_vaccinated_per_hundred",
         "dtype": "float64"
        },
        {
         "name": "total_vaccinations_per_hundred",
         "dtype": "float64"
        },
        {
         "name": "people_fully_vaccinated",
         "dtype": "float64"
        },
        {
         "name": "people_vaccinated_per_hundred",
         "dtype": "float64"
        },
        {
         "name": "distributed_per_hundred",
         "dtype": "float64"
        },
        {
         "name": "daily_vaccinations_raw",
         "dtype": "float64"
        },
        {
         "name": "daily_vaccinations",
         "dtype": "float64"
        },
        {
         "name": "daily_vaccinations_per_million",
         "dtype": "float64"
        },
        {
         "name": "share_doses_used",
         "dtype": "float64"
        },
        {
         "name": "total_boosters",
         "dtype": "float64"
        },
        {
         "name": "total_boosters_per_hundred",
         "dtype": "float64"
        },
        {
         "name": "_deepnote_index_column",
         "dtype": "int64"
        }
       ],
       "rows": [
        {
         "date": "2021-06-21T00:00:00.000000",
         "location": "Alabama",
         "total_vaccinations": 3285448,
         "total_distributed": 4758560,
         "people_vaccinated": 1915122,
         "people_fully_vaccinated_per_hundred": 31.89,
         "total_vaccinations_per_hundred": 67.01,
         "people_fully_vaccinated": 1563573,
         "people_vaccinated_per_hundred": 39.06,
         "distributed_per_hundred": 97.05,
         "daily_vaccinations_raw": 3255,
         "daily_vaccinations": 22477,
         "daily_vaccinations_per_million": 4584,
         "share_doses_used": 0.69,
         "total_boosters": "nan",
         "total_boosters_per_hundred": "nan",
         "_deepnote_index_column": 160
        },
        {
         "date": "2021-06-22T00:00:00.000000",
         "location": "Alabama",
         "total_vaccinations": 3291351,
         "total_distributed": 4759120,
         "people_vaccinated": 1918334,
         "people_fully_vaccinated_per_hundred": 31.96,
         "total_vaccinations_per_hundred": 67.13,
         "people_fully_vaccinated": 1566908,
         "people_vaccinated_per_hundred": 39.12,
         "distributed_per_hundred": 97.06,
         "daily_vaccinations_raw": 5903,
         "daily_vaccinations": 23099,
         "daily_vaccinations_per_million": 4711,
         "share_doses_used": 0.692,
         "total_boosters": "nan",
         "total_boosters_per_hundred": "nan",
         "_deepnote_index_column": 161
        },
        {
         "date": "2021-06-23T00:00:00.000000",
         "location": "Alabama",
         "total_vaccinations": 3298895,
         "total_distributed": 4767580,
         "people_vaccinated": 1922707,
         "people_fully_vaccinated_per_hundred": 32.03,
         "total_vaccinations_per_hundred": 67.28,
         "people_fully_vaccinated": 1570452,
         "people_vaccinated_per_hundred": 39.21,
         "distributed_per_hundred": 97.23,
         "daily_vaccinations_raw": 7544,
         "daily_vaccinations": 22442,
         "daily_vaccinations_per_million": 4577,
         "share_doses_used": 0.692,
         "total_boosters": "nan",
         "total_boosters_per_hundred": "nan",
         "_deepnote_index_column": 162
        },
        {
         "date": "2021-06-24T00:00:00.000000",
         "location": "Alabama",
         "total_vaccinations": 3308713,
         "total_distributed": 4769800,
         "people_vaccinated": 1928656,
         "people_fully_vaccinated_per_hundred": 32.12,
         "total_vaccinations_per_hundred": 67.48,
         "people_fully_vaccinated": 1574676,
         "people_vaccinated_per_hundred": 39.33,
         "distributed_per_hundred": 97.28,
         "daily_vaccinations_raw": 9818,
         "daily_vaccinations": 7919,
         "daily_vaccinations_per_million": 1615,
         "share_doses_used": 0.694,
         "total_boosters": "nan",
         "total_boosters_per_hundred": "nan",
         "_deepnote_index_column": 163
        },
        {
         "date": "2021-06-25T00:00:00.000000",
         "location": "Alabama",
         "total_vaccinations": 3308961,
         "total_distributed": 4783230,
         "people_vaccinated": 1928903,
         "people_fully_vaccinated_per_hundred": 32.12,
         "total_vaccinations_per_hundred": 67.49,
         "people_fully_vaccinated": 1574934,
         "people_vaccinated_per_hundred": 39.34,
         "distributed_per_hundred": 97.55,
         "daily_vaccinations_raw": 248,
         "daily_vaccinations": 7804,
         "daily_vaccinations_per_million": 1592,
         "share_doses_used": 0.692,
         "total_boosters": "nan",
         "total_boosters_per_hundred": "nan",
         "_deepnote_index_column": 164
        },
        {
         "date": "2021-06-26T00:00:00.000000",
         "location": "Alabama",
         "total_vaccinations": 3317156,
         "total_distributed": 4801760,
         "people_vaccinated": 1933773,
         "people_fully_vaccinated_per_hundred": 32.2,
         "total_vaccinations_per_hundred": 67.65,
         "people_fully_vaccinated": 1578780,
         "people_vaccinated_per_hundred": 39.44,
         "distributed_per_hundred": 97.93,
         "daily_vaccinations_raw": 8195,
         "daily_vaccinations": 5983,
         "daily_vaccinations_per_million": 1220,
         "share_doses_used": 0.691,
         "total_boosters": "nan",
         "total_boosters_per_hundred": "nan",
         "_deepnote_index_column": 165
        },
        {
         "date": "2021-06-27T00:00:00.000000",
         "location": "Alabama",
         "total_vaccinations": 3330128,
         "total_distributed": 4801760,
         "people_vaccinated": 1941681,
         "people_fully_vaccinated_per_hundred": 32.31,
         "total_vaccinations_per_hundred": 67.92,
         "people_fully_vaccinated": 1584456,
         "people_vaccinated_per_hundred": 39.6,
         "distributed_per_hundred": 97.93,
         "daily_vaccinations_raw": 12972,
         "daily_vaccinations": 6848,
         "daily_vaccinations_per_million": 1397,
         "share_doses_used": 0.694,
         "total_boosters": "nan",
         "total_boosters_per_hundred": "nan",
         "_deepnote_index_column": 166
        },
        {
         "date": "2021-06-28T00:00:00.000000",
         "location": "Alabama",
         "total_vaccinations": 3341617,
         "total_distributed": 4801760,
         "people_vaccinated": 1948135,
         "people_fully_vaccinated_per_hundred": 32.43,
         "total_vaccinations_per_hundred": 68.15,
         "people_fully_vaccinated": 1590001,
         "people_vaccinated_per_hundred": 39.73,
         "distributed_per_hundred": 97.93,
         "daily_vaccinations_raw": 11489,
         "daily_vaccinations": 8024,
         "daily_vaccinations_per_million": 1636,
         "share_doses_used": 0.696,
         "total_boosters": "nan",
         "total_boosters_per_hundred": "nan",
         "_deepnote_index_column": 167
        },
        {
         "date": "2021-06-29T00:00:00.000000",
         "location": "Alabama",
         "total_vaccinations": 3349904,
         "total_distributed": 4810050,
         "people_vaccinated": 1953410,
         "people_fully_vaccinated_per_hundred": 32.51,
         "total_vaccinations_per_hundred": 68.32,
         "people_fully_vaccinated": 1594040,
         "people_vaccinated_per_hundred": 39.84,
         "distributed_per_hundred": 98.1,
         "daily_vaccinations_raw": 8287,
         "daily_vaccinations": 8365,
         "daily_vaccinations_per_million": 1706,
         "share_doses_used": 0.696,
         "total_boosters": "nan",
         "total_boosters_per_hundred": "nan",
         "_deepnote_index_column": 168
        },
        {
         "date": "2021-06-30T00:00:00.000000",
         "location": "Alabama",
         "total_vaccinations": 3350607,
         "total_distributed": 4813050,
         "people_vaccinated": 1954166,
         "people_fully_vaccinated_per_hundred": 32.52,
         "total_vaccinations_per_hundred": 68.34,
         "people_fully_vaccinated": 1594625,
         "people_vaccinated_per_hundred": 39.86,
         "distributed_per_hundred": 98.16,
         "daily_vaccinations_raw": 703,
         "daily_vaccinations": 7387,
         "daily_vaccinations_per_million": 1507,
         "share_doses_used": 0.696,
         "total_boosters": "nan",
         "total_boosters_per_hundred": "nan",
         "_deepnote_index_column": 169
        }
       ]
      },
      "text/plain": "            date location  total_vaccinations  total_distributed  \\\n0     2021-01-12  Alabama             78134.0           377025.0   \n1     2021-01-13  Alabama             84040.0           378975.0   \n2     2021-01-14  Alabama             92300.0           435350.0   \n3     2021-01-15  Alabama            100567.0           444650.0   \n4     2021-01-16  Alabama                 NaN                NaN   \n...          ...      ...                 ...                ...   \n26143 2022-02-15  Wyoming            723234.0           921765.0   \n26144 2022-02-16  Wyoming            724510.0           921865.0   \n26145 2022-02-17  Wyoming            727461.0           926785.0   \n26146 2022-02-18  Wyoming            727939.0           928785.0   \n26147 2022-02-19  Wyoming            728393.0           928985.0   \n\n       people_vaccinated  people_fully_vaccinated_per_hundred  \\\n0                70861.0                                 0.15   \n1                74792.0                                 0.19   \n2                80480.0                                  NaN   \n3                86956.0                                 0.28   \n4                    NaN                                  NaN   \n...                  ...                                  ...   \n26143           333970.0                                50.27   \n26144           334331.0                                50.35   \n26145           334602.0                                50.39   \n26146           334748.0                                50.42   \n26147           334878.0                                50.45   \n\n       total_vaccinations_per_hundred  people_fully_vaccinated  \\\n0                                1.59                   7270.0   \n1                                1.71                   9245.0   \n2                                1.88                      NaN   \n3                                2.05                  13488.0   \n4                                 NaN                      NaN   \n...                               ...                      ...   \n26143                          124.96                 290953.0   \n26144                          125.18                 291386.0   \n26145                          125.69                 291651.0   \n26146                          125.78                 291827.0   \n26147                          125.85                 292007.0   \n\n       people_vaccinated_per_hundred  distributed_per_hundred  \\\n0                               1.45                     7.69   \n1                               1.53                     7.73   \n2                               1.64                     8.88   \n3                               1.77                     9.07   \n4                                NaN                      NaN   \n...                              ...                      ...   \n26143                          57.70                   159.27   \n26144                          57.77                   159.28   \n26145                          57.81                   160.13   \n26146                          57.84                   160.48   \n26147                          57.86                   160.51   \n\n       daily_vaccinations_raw  daily_vaccinations  \\\n0                         NaN                 NaN   \n1                      5906.0              5906.0   \n2                      8260.0              7083.0   \n3                      8267.0              7478.0   \n4                         NaN              7498.0   \n...                       ...                 ...   \n26143                     4.0               573.0   \n26144                  1276.0               747.0   \n26145                  2951.0               848.0   \n26146                   478.0               788.0   \n26147                   454.0               751.0   \n\n       daily_vaccinations_per_million  share_doses_used  total_boosters  \\\n0                                 NaN             0.207             NaN   \n1                              1205.0             0.222             NaN   \n2                              1445.0             0.212             NaN   \n3                              1525.0             0.226             NaN   \n4                              1529.0               NaN             NaN   \n...                               ...               ...             ...   \n26143                           990.0             0.785        119692.0   \n26144                          1291.0             0.786        120166.0   \n26145                          1465.0             0.785        120416.0   \n26146                          1362.0             0.784        120600.0   \n26147                          1298.0             0.784        120790.0   \n\n       total_boosters_per_hundred  \n0                             NaN  \n1                             NaN  \n2                             NaN  \n3                             NaN  \n4                             NaN  \n...                           ...  \n26143                       20.68  \n26144                       20.76  \n26145                       20.81  \n26146                       20.84  \n26147                       20.87  \n\n[26148 rows x 16 columns]",
      "text/html": "<div>\n<style scoped>\n    .dataframe tbody tr th:only-of-type {\n        vertical-align: middle;\n    }\n\n    .dataframe tbody tr th {\n        vertical-align: top;\n    }\n\n    .dataframe thead th {\n        text-align: right;\n    }\n</style>\n<table border=\"1\" class=\"dataframe\">\n  <thead>\n    <tr style=\"text-align: right;\">\n      <th></th>\n      <th>date</th>\n      <th>location</th>\n      <th>total_vaccinations</th>\n      <th>total_distributed</th>\n      <th>people_vaccinated</th>\n      <th>people_fully_vaccinated_per_hundred</th>\n      <th>total_vaccinations_per_hundred</th>\n      <th>people_fully_vaccinated</th>\n      <th>people_vaccinated_per_hundred</th>\n      <th>distributed_per_hundred</th>\n      <th>daily_vaccinations_raw</th>\n      <th>daily_vaccinations</th>\n      <th>daily_vaccinations_per_million</th>\n      <th>share_doses_used</th>\n      <th>total_boosters</th>\n      <th>total_boosters_per_hundred</th>\n    </tr>\n  </thead>\n  <tbody>\n    <tr>\n      <th>0</th>\n      <td>2021-01-12</td>\n      <td>Alabama</td>\n      <td>78134.0</td>\n      <td>377025.0</td>\n      <td>70861.0</td>\n      <td>0.15</td>\n      <td>1.59</td>\n      <td>7270.0</td>\n      <td>1.45</td>\n      <td>7.69</td>\n      <td>NaN</td>\n      <td>NaN</td>\n      <td>NaN</td>\n      <td>0.207</td>\n      <td>NaN</td>\n      <td>NaN</td>\n    </tr>\n    <tr>\n      <th>1</th>\n      <td>2021-01-13</td>\n      <td>Alabama</td>\n      <td>84040.0</td>\n      <td>378975.0</td>\n      <td>74792.0</td>\n      <td>0.19</td>\n      <td>1.71</td>\n      <td>9245.0</td>\n      <td>1.53</td>\n      <td>7.73</td>\n      <td>5906.0</td>\n      <td>5906.0</td>\n      <td>1205.0</td>\n      <td>0.222</td>\n      <td>NaN</td>\n      <td>NaN</td>\n    </tr>\n    <tr>\n      <th>2</th>\n      <td>2021-01-14</td>\n      <td>Alabama</td>\n      <td>92300.0</td>\n      <td>435350.0</td>\n      <td>80480.0</td>\n      <td>NaN</td>\n      <td>1.88</td>\n      <td>NaN</td>\n      <td>1.64</td>\n      <td>8.88</td>\n      <td>8260.0</td>\n      <td>7083.0</td>\n      <td>1445.0</td>\n      <td>0.212</td>\n      <td>NaN</td>\n      <td>NaN</td>\n    </tr>\n    <tr>\n      <th>3</th>\n      <td>2021-01-15</td>\n      <td>Alabama</td>\n      <td>100567.0</td>\n      <td>444650.0</td>\n      <td>86956.0</td>\n      <td>0.28</td>\n      <td>2.05</td>\n      <td>13488.0</td>\n      <td>1.77</td>\n      <td>9.07</td>\n      <td>8267.0</td>\n      <td>7478.0</td>\n      <td>1525.0</td>\n      <td>0.226</td>\n      <td>NaN</td>\n      <td>NaN</td>\n    </tr>\n    <tr>\n      <th>4</th>\n      <td>2021-01-16</td>\n      <td>Alabama</td>\n      <td>NaN</td>\n      <td>NaN</td>\n      <td>NaN</td>\n      <td>NaN</td>\n      <td>NaN</td>\n      <td>NaN</td>\n      <td>NaN</td>\n      <td>NaN</td>\n      <td>NaN</td>\n      <td>7498.0</td>\n      <td>1529.0</td>\n      <td>NaN</td>\n      <td>NaN</td>\n      <td>NaN</td>\n    </tr>\n    <tr>\n      <th>...</th>\n      <td>...</td>\n      <td>...</td>\n      <td>...</td>\n      <td>...</td>\n      <td>...</td>\n      <td>...</td>\n      <td>...</td>\n      <td>...</td>\n      <td>...</td>\n      <td>...</td>\n      <td>...</td>\n      <td>...</td>\n      <td>...</td>\n      <td>...</td>\n      <td>...</td>\n      <td>...</td>\n    </tr>\n    <tr>\n      <th>26143</th>\n      <td>2022-02-15</td>\n      <td>Wyoming</td>\n      <td>723234.0</td>\n      <td>921765.0</td>\n      <td>333970.0</td>\n      <td>50.27</td>\n      <td>124.96</td>\n      <td>290953.0</td>\n      <td>57.70</td>\n      <td>159.27</td>\n      <td>4.0</td>\n      <td>573.0</td>\n      <td>990.0</td>\n      <td>0.785</td>\n      <td>119692.0</td>\n      <td>20.68</td>\n    </tr>\n    <tr>\n      <th>26144</th>\n      <td>2022-02-16</td>\n      <td>Wyoming</td>\n      <td>724510.0</td>\n      <td>921865.0</td>\n      <td>334331.0</td>\n      <td>50.35</td>\n      <td>125.18</td>\n      <td>291386.0</td>\n      <td>57.77</td>\n      <td>159.28</td>\n      <td>1276.0</td>\n      <td>747.0</td>\n      <td>1291.0</td>\n      <td>0.786</td>\n      <td>120166.0</td>\n      <td>20.76</td>\n    </tr>\n    <tr>\n      <th>26145</th>\n      <td>2022-02-17</td>\n      <td>Wyoming</td>\n      <td>727461.0</td>\n      <td>926785.0</td>\n      <td>334602.0</td>\n      <td>50.39</td>\n      <td>125.69</td>\n      <td>291651.0</td>\n      <td>57.81</td>\n      <td>160.13</td>\n      <td>2951.0</td>\n      <td>848.0</td>\n      <td>1465.0</td>\n      <td>0.785</td>\n      <td>120416.0</td>\n      <td>20.81</td>\n    </tr>\n    <tr>\n      <th>26146</th>\n      <td>2022-02-18</td>\n      <td>Wyoming</td>\n      <td>727939.0</td>\n      <td>928785.0</td>\n      <td>334748.0</td>\n      <td>50.42</td>\n      <td>125.78</td>\n      <td>291827.0</td>\n      <td>57.84</td>\n      <td>160.48</td>\n      <td>478.0</td>\n      <td>788.0</td>\n      <td>1362.0</td>\n      <td>0.784</td>\n      <td>120600.0</td>\n      <td>20.84</td>\n    </tr>\n    <tr>\n      <th>26147</th>\n      <td>2022-02-19</td>\n      <td>Wyoming</td>\n      <td>728393.0</td>\n      <td>928985.0</td>\n      <td>334878.0</td>\n      <td>50.45</td>\n      <td>125.85</td>\n      <td>292007.0</td>\n      <td>57.86</td>\n      <td>160.51</td>\n      <td>454.0</td>\n      <td>751.0</td>\n      <td>1298.0</td>\n      <td>0.784</td>\n      <td>120790.0</td>\n      <td>20.87</td>\n    </tr>\n  </tbody>\n</table>\n<p>26148 rows × 16 columns</p>\n</div>"
     },
     "metadata": {}
    }
   ]
  },
  {
   "cell_type": "code",
   "metadata": {
    "cell_id": "671a539b-bd8d-456f-a1ab-baaadeeb2d49",
    "tags": [],
    "deepnote_to_be_reexecuted": false,
    "source_hash": "de1e323c",
    "execution_start": 1645577454082,
    "execution_millis": 36,
    "deepnote_cell_type": "code"
   },
   "source": "df.info()",
   "execution_count": 4,
   "outputs": [
    {
     "name": "stdout",
     "text": "<class 'pandas.core.frame.DataFrame'>\nRangeIndex: 26148 entries, 0 to 26147\nData columns (total 16 columns):\n #   Column                               Non-Null Count  Dtype         \n---  ------                               --------------  -----         \n 0   date                                 26148 non-null  datetime64[ns]\n 1   location                             26148 non-null  object        \n 2   total_vaccinations                   23856 non-null  float64       \n 3   total_distributed                    23596 non-null  float64       \n 4   people_vaccinated                    23592 non-null  float64       \n 5   people_fully_vaccinated_per_hundred  22360 non-null  float64       \n 6   total_vaccinations_per_hundred       22459 non-null  float64       \n 7   people_fully_vaccinated              23512 non-null  float64       \n 8   people_vaccinated_per_hundred        22435 non-null  float64       \n 9   distributed_per_hundred              22439 non-null  float64       \n 10  daily_vaccinations_raw               22972 non-null  float64       \n 11  daily_vaccinations                   26083 non-null  float64       \n 12  daily_vaccinations_per_million       24571 non-null  float64       \n 13  share_doses_used                     23596 non-null  float64       \n 14  total_boosters                       6690 non-null   float64       \n 15  total_boosters_per_hundred           6366 non-null   float64       \ndtypes: datetime64[ns](1), float64(14), object(1)\nmemory usage: 3.2+ MB\n",
     "output_type": "stream"
    }
   ]
  },
  {
   "cell_type": "code",
   "metadata": {
    "cell_id": "c4e81e2e-5eb2-458b-bd08-3fec6bb0354e",
    "tags": [],
    "deepnote_to_be_reexecuted": false,
    "source_hash": "dde5544",
    "execution_start": 1645578093008,
    "execution_millis": 22,
    "deepnote_table_state": {
     "pageSize": 10,
     "pageIndex": 0,
     "filters": [],
     "sortBy": []
    },
    "deepnote_table_loading": false,
    "deepnote_cell_type": "code"
   },
   "source": "def function_name(state,col): \n    df_new = df[df['location']== state]\n    df_new1 = df_new.set_index('date')\n    df_new2 = df_new1[col]\n    return df_new2\n\nfunction_name('Alabama', 'total_vaccinations_per_hundred')",
   "execution_count": 12,
   "outputs": [
    {
     "output_type": "execute_result",
     "execution_count": 12,
     "data": {
      "text/plain": "date\n2021-01-12      1.59\n2021-01-13      1.71\n2021-01-14      1.88\n2021-01-15      2.05\n2021-01-16       NaN\n               ...  \n2022-02-15    123.01\n2022-02-16    123.03\n2022-02-17    123.67\n2022-02-18    123.74\n2022-02-19    123.76\nName: total_vaccinations_per_hundred, Length: 404, dtype: float64"
     },
     "metadata": {}
    }
   ]
  },
  {
   "cell_type": "markdown",
   "source": "<a style='text-decoration:none;line-height:16px;display:flex;color:#5B5B62;padding:10px;justify-content:end;' href='https://deepnote.com?utm_source=created-in-deepnote-cell&projectId=a9652df0-da19-421c-bd7b-e9e8eba880ab' target=\"_blank\">\n<img alt='Created in deepnote.com' style='display:inline;max-height:16px;margin:0px;margin-right:7.5px;' src='data:image/svg+xml;base64,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' > </img>\nCreated in <span style='font-weight:600;margin-left:4px;'>Deepnote</span></a>",
   "metadata": {
    "tags": [],
    "created_in_deepnote_cell": true,
    "deepnote_cell_type": "markdown"
   }
  }
 ],
 "nbformat": 4,
 "nbformat_minor": 2,
 "metadata": {
  "orig_nbformat": 2,
  "deepnote": {
   "is_reactive": false
  },
  "deepnote_notebook_id": "f0b14677-6160-4aea-b6c4-2fe05406acdb",
  "deepnote_execution_queue": []
 }
}